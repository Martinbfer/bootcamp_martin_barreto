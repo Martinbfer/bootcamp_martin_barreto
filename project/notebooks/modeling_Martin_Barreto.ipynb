{
 "cells": [
  {
   "cell_type": "markdown",
   "metadata": {},
   "source": [
    "# Time Series & Classification\n"
   ]
  },
  {
   "cell_type": "code",
   "execution_count": 1,
   "metadata": {},
   "outputs": [
    {
     "name": "stdout",
     "output_type": "stream",
     "text": [
      "Accuracy: 0.529, Precision: 0.539, Recall: 0.833, F1: 0.655\n"
     ]
    },
    {
     "data": {
      "image/png": "[encoded data removed]",
      "text/plain": [
       "<Figure size 640x480 with 2 Axes>"
      ]
     },
     "metadata": {},
     "output_type": "display_data"
    }
   ],
   "source": [
    "# 1. Imports\n",
    "import pandas as pd\n",
    "import numpy as np\n",
    "from sklearn.model_selection import train_test_split\n",
    "from sklearn.preprocessing import StandardScaler\n",
    "from sklearn.linear_model import LogisticRegression\n",
    "from sklearn.pipeline import Pipeline\n",
    "from sklearn.metrics import accuracy_score, precision_score, recall_score, f1_score, confusion_matrix, ConfusionMatrixDisplay\n",
    "import matplotlib.pyplot as plt\n",
    "from pathlib import Path\n",
    "\n",
    "# 2. Load dataset\n",
    "DATA_IN = Path(\"../data/processed/ko_cleaned.parquet\")\n",
    "df = pd.read_parquet(DATA_IN).copy()\n",
    "\n",
    "# 3. Create features\n",
    "df[\"lag1\"] = df[\"daily_ret\"].shift(1)\n",
    "df[\"rolling_mean_5d\"] = df[\"daily_ret\"].rolling(5).mean()\n",
    "df[\"volatility_21d\"] = df[\"daily_ret\"].rolling(21).std()\n",
    "\n",
    "# 4. Target: next-day direction\n",
    "df[\"y_up\"] = (df[\"daily_ret\"].shift(-1) > 0).astype(int)\n",
    "\n",
    "# 5. Drop NAs\n",
    "df = df.dropna()\n",
    "\n",
    "# 6. Features / Target\n",
    "X = df[[\"lag1\", \"rolling_mean_5d\", \"volatility_21d\"]]\n",
    "y = df[\"y_up\"]\n",
    "\n",
    "# 7. Time-aware split (80/20)\n",
    "split_idx = int(len(X) * 0.8)\n",
    "X_train, X_test = X.iloc[:split_idx], X.iloc[split_idx:]\n",
    "y_train, y_test = y.iloc[:split_idx], y.iloc[split_idx:]\n",
    "\n",
    "# 8. Pipeline\n",
    "pipe = Pipeline([\n",
    "    (\"scaler\", StandardScaler()),\n",
    "    (\"clf\", LogisticRegression(max_iter=500))\n",
    "])\n",
    "\n",
    "# 9. Fit model\n",
    "pipe.fit(X_train, y_train)\n",
    "y_pred = pipe.predict(X_test)\n",
    "\n",
    "# 10. Evaluation\n",
    "acc = accuracy_score(y_test, y_pred)\n",
    "prec = precision_score(y_test, y_pred)\n",
    "rec = recall_score(y_test, y_pred)\n",
    "f1 = f1_score(y_test, y_pred)\n",
    "\n",
    "print(f\"Accuracy: {acc:.3f}, Precision: {prec:.3f}, Recall: {rec:.3f}, F1: {f1:.3f}\")\n",
    "\n",
    "# 11. Confusion Matrix\n",
    "cm = confusion_matrix(y_test, y_pred)\n",
    "ConfusionMatrixDisplay(cm).plot()\n",
    "plt.show()\n"
   ]
  },
  {
   "cell_type": "markdown",
   "metadata": {},
   "source": [
    "## Interpretation (Markdown)\n",
    "- What worked?\n",
    "- Where might assumptions fail?\n",
    "- How would you extend features or model?"
   ]
  },
  {
   "cell_type": "markdown",
   "id": "2ae54b44",
   "metadata": {},
   "source": [
    "- What worked?\n",
    "\n",
    "The pipeline ran successfully with lag and rolling features, and the model was able to capture some predictive signal.\n",
    "\n",
    "Recall is relatively high (0.833), meaning the model correctly identifies most of the days when returns go up. This could be useful if the goal is to avoid missing upward movements.\n",
    "\n",
    "- Where might assumptions fail?\n",
    "\n",
    "Accuracy is close to random guessing (0.529), suggesting the model has limited overall predictive power.\n",
    "\n",
    "Precision is low (0.539), meaning many of the \"up\" predictions are false alarms. This is a risk if the strategy requires avoiding false positives.\n",
    "\n",
    "Financial time series are noisy and may not follow stable linear relationships, so a simple logistic regression may be too weak to capture complex dynamics.\n",
    "\n",
    "Features may not provide enough information — the model often defaults to predicting \"up\".\n",
    "\n",
    "- How would you extend features or model?\n",
    "\n",
    "Add more engineered features: e.g., 10-day momentum, moving averages (short vs long), RSI, or macroeconomic indicators.\n",
    "\n",
    "Try alternative models that handle non-linearities better, such as Random Forests, Gradient Boosted Trees, or even recurrent neural networks (RNNs).\n",
    "\n",
    "Evaluate with walk-forward validation instead of a single split to test robustness.\n",
    "\n",
    "Adjust decision thresholds if recall vs precision trade-off is more important for the use case."
   ]
  }
 ],
 "metadata": {
  "kernelspec": {
   "display_name": "fe-course",
   "language": "python",
   "name": "python3"
  },
  "language_info": {
   "codemirror_mode": {
    "name": "ipython",
    "version": 3
   },
   "file_extension": ".py",
   "mimetype": "text/x-python",
   "name": "python",
   "nbconvert_exporter": "python",
   "pygments_lexer": "ipython3",
   "version": "3.11.13"
  }
 },
 "nbformat": 4,
 "nbformat_minor": 5
}
