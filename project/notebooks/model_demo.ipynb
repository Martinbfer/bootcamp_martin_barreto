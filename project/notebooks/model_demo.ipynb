{
 "cells": [
  {
   "cell_type": "code",
   "execution_count": 6,
   "id": "801742dd",
   "metadata": {},
   "outputs": [
    {
     "name": "stdout",
     "output_type": "stream",
     "text": [
      "Saved model/model/ko_model.pkl\n"
     ]
    }
   ],
   "source": [
    "import pandas as pd\n",
    "import numpy as np\n",
    "import sys\n",
    "from pathlib import Path\n",
    "# add project root (one level up from notebooks/) to sys.path\n",
    "root = Path.cwd().parent   # si estás dentro de /notebooks\n",
    "sys.path.append(str(root))\n",
    "\n",
    "from src.features import make_basic_features\n",
    "from sklearn.linear_model import LogisticRegression\n",
    "import pickle\n",
    "\n",
    "# load data\n",
    "df = pd.read_parquet(\"../data/processed/ko_cleaned.parquet\")\n",
    "df = make_basic_features(df)\n",
    "\n",
    "# target: will tomorrow go up? (like Stage 10b)\n",
    "df[\"y_up\"] = (df[\"daily_ret\"].shift(-1) > 0).astype(int)\n",
    "\n",
    "# drop NA from rolling/shift\n",
    "df = df.dropna(subset=[\"lag1\", \"volatility_21d\", \"y_up\"])\n",
    "\n",
    "# time-aware split\n",
    "split_idx = int(len(df) * 0.8)\n",
    "train = df.iloc[:split_idx]\n",
    "test  = df.iloc[split_idx:]\n",
    "\n",
    "X_train = train[[\"lag1\",\"volatility_21d\"]].values\n",
    "y_train = train[\"y_up\"].values\n",
    "\n",
    "# train model\n",
    "clf = LogisticRegression(max_iter=500)\n",
    "clf.fit(X_train, y_train)\n",
    "\n",
    "# save to /model/\n",
    "Path(\"../model\").mkdir(exist_ok=True, parents=True)\n",
    "with open(\"../model/ko_model.pkl\", \"wb\") as f:\n",
    "    pickle.dump(clf, f)\n",
    "\n",
    "print(\"Saved model/model/ko_model.pkl\")\n"
   ]
  }
 ],
 "metadata": {
  "kernelspec": {
   "display_name": "fe-course",
   "language": "python",
   "name": "python3"
  },
  "language_info": {
   "codemirror_mode": {
    "name": "ipython",
    "version": 3
   },
   "file_extension": ".py",
   "mimetype": "text/x-python",
   "name": "python",
   "nbconvert_exporter": "python",
   "pygments_lexer": "ipython3",
   "version": "3.11.13"
  }
 },
 "nbformat": 4,
 "nbformat_minor": 5
}
