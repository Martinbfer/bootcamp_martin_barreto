{
 "cells": [
  {
   "cell_type": "code",
   "execution_count": 1,
   "id": "4222a84c",
   "metadata": {},
   "outputs": [
    {
     "name": "stdout",
     "output_type": "stream",
     "text": [
      "Squared numbers: [1, 4, 9, 16, 25]\n",
      "Mean: 30.0\n",
      "Standard deviation: 14.142135623730951\n",
      "      name  age     city\n",
      "0    Alice   25       NY\n",
      "1      Bob   30       LA\n",
      "2  Charlie   35  Chicago\n"
     ]
    }
   ],
   "source": [
    "import numpy as np\n",
    "import pandas as pd\n",
    "\n",
    "# Python basics\n",
    "numbers = [1, 2, 3, 4, 5]\n",
    "squared = [n**2 for n in numbers]\n",
    "print(\"Squared numbers:\", squared)\n",
    "\n",
    "# NumPy\n",
    "arr = np.array([10, 20, 30, 40, 50])\n",
    "print(\"Mean:\", arr.mean())\n",
    "print(\"Standard deviation:\", arr.std())\n",
    "\n",
    "# pandas\n",
    "data = {\n",
    "    \"name\": [\"Alice\", \"Bob\", \"Charlie\"],\n",
    "    \"age\": [25, 30, 35],\n",
    "    \"city\": [\"NY\", \"LA\", \"Chicago\"]\n",
    "}\n",
    "df = pd.DataFrame(data)\n",
    "print(df)\n",
    "\n",
    "# Apply reusable function from utils\n",
    "import sys\n",
    "import os\n",
    "\n",
    "project_root = os.path.abspath(os.path.join(os.getcwd(), \"..\"))\n",
    "\n",
    "if project_root not in sys.path:\n",
    "    sys.path.append(project_root)\n",
    "\n",
    "from src.utils import clean_column_names\n",
    "df.columns = clean_column_names(df.columns)\n",
    "\n"
   ]
  }
 ],
 "metadata": {
  "kernelspec": {
   "display_name": "fe-course",
   "language": "python",
   "name": "python3"
  },
  "language_info": {
   "codemirror_mode": {
    "name": "ipython",
    "version": 3
   },
   "file_extension": ".py",
   "mimetype": "text/x-python",
   "name": "python",
   "nbconvert_exporter": "python",
   "pygments_lexer": "ipython3",
   "version": "3.11.13"
  }
 },
 "nbformat": 4,
 "nbformat_minor": 5
}
