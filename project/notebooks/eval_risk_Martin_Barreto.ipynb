{
 "cells": [
  {
   "cell_type": "markdown",
   "id": "5284ed1f",
   "metadata": {},
   "source": [
    "# Stage 11 — Evaluation & Risk Communication\n",
    "In the lecture, we learned **parametric vs bootstrap CIs**, **scenario sensitivity**, and **subgroup checks**.\n",
    "Now, you will adapt those methods to your dataset and produce assumption-aware results."
   ]
  },
  {
   "cell_type": "code",
   "execution_count": 1,
   "id": "1a562c1b",
   "metadata": {},
   "outputs": [
    {
     "data": {
      "text/html": [
       "<div>\n",
       "<style scoped>\n",
       "    .dataframe tbody tr th:only-of-type {\n",
       "        vertical-align: middle;\n",
       "    }\n",
       "\n",
       "    .dataframe tbody tr th {\n",
       "        vertical-align: top;\n",
       "    }\n",
       "\n",
       "    .dataframe thead th {\n",
       "        text-align: right;\n",
       "    }\n",
       "</style>\n",
       "<table border=\"1\" class=\"dataframe\">\n",
       "  <thead>\n",
       "    <tr style=\"text-align: right;\">\n",
       "      <th></th>\n",
       "      <th>Date</th>\n",
       "      <th>close</th>\n",
       "      <th>daily_ret</th>\n",
       "      <th>log_ret</th>\n",
       "    </tr>\n",
       "  </thead>\n",
       "  <tbody>\n",
       "    <tr>\n",
       "      <th>0</th>\n",
       "      <td>2000-01-04</td>\n",
       "      <td>13.831048</td>\n",
       "      <td>0.001109</td>\n",
       "      <td>0.001108</td>\n",
       "    </tr>\n",
       "    <tr>\n",
       "      <th>1</th>\n",
       "      <td>2000-01-05</td>\n",
       "      <td>13.953581</td>\n",
       "      <td>0.008859</td>\n",
       "      <td>0.008820</td>\n",
       "    </tr>\n",
       "    <tr>\n",
       "      <th>2</th>\n",
       "      <td>2000-01-06</td>\n",
       "      <td>13.968897</td>\n",
       "      <td>0.001098</td>\n",
       "      <td>0.001097</td>\n",
       "    </tr>\n",
       "    <tr>\n",
       "      <th>3</th>\n",
       "      <td>2000-01-07</td>\n",
       "      <td>14.887897</td>\n",
       "      <td>0.065789</td>\n",
       "      <td>0.063715</td>\n",
       "    </tr>\n",
       "    <tr>\n",
       "      <th>4</th>\n",
       "      <td>2000-01-10</td>\n",
       "      <td>14.413089</td>\n",
       "      <td>-0.031892</td>\n",
       "      <td>-0.032412</td>\n",
       "    </tr>\n",
       "  </tbody>\n",
       "</table>\n",
       "</div>"
      ],
      "text/plain": [
       "        Date      close  daily_ret   log_ret\n",
       "0 2000-01-04  13.831048   0.001109  0.001108\n",
       "1 2000-01-05  13.953581   0.008859  0.008820\n",
       "2 2000-01-06  13.968897   0.001098  0.001097\n",
       "3 2000-01-07  14.887897   0.065789  0.063715\n",
       "4 2000-01-10  14.413089  -0.031892 -0.032412"
      ]
     },
     "execution_count": 1,
     "metadata": {},
     "output_type": "execute_result"
    }
   ],
   "source": [
    "# 0) Imports & setup\n",
    "import numpy as np\n",
    "import pandas as pd\n",
    "import matplotlib.pyplot as plt\n",
    "from pathlib import Path\n",
    "\n",
    "np.random.seed(11)\n",
    "pd.set_option(\"display.max_columns\", 100)\n",
    "\n",
    "DATA_IN = Path(\"../data/processed/ko_cleaned.parquet\")\n",
    "df = pd.read_parquet(DATA_IN).copy()\n",
    "\n",
    "# Ensure proper types / sorting\n",
    "if \"Date\" in df.columns:\n",
    "    df[\"Date\"] = pd.to_datetime(df[\"Date\"])\n",
    "    df = df.sort_values(\"Date\").reset_index(drop=True)\n",
    "\n",
    "# Make sure to have returns\n",
    "if \"daily_ret\" not in df.columns and \"close\" in df.columns:\n",
    "    df[\"daily_ret\"] = df[\"close\"].pct_change()\n",
    "\n",
    "df = df.dropna(subset=[\"daily_ret\"]).reset_index(drop=True)\n",
    "\n",
    "TRADING_DAYS = 252\n",
    "H = 5 * TRADING_DAYS   # 5-year horizon\n",
    "df.head()\n"
   ]
  },
  {
   "cell_type": "code",
   "execution_count": null,
   "id": "1848caee",
   "metadata": {},
   "outputs": [
    {
     "name": "stdout",
     "output_type": "stream",
     "text": [
      "Empirical P(5y return > 0) = 0.930  (n=5187)\n"
     ]
    },
    {
     "data": {
      "image/png": "[encoded data removed]",
      "text/plain": [
       "<Figure size 640x480 with 1 Axes>"
      ]
     },
     "metadata": {},
     "output_type": "display_data"
    }
   ],
   "source": [
    "# forward product over next H days: (1+r_{t+1})...(1+r_{t+H}) - 1\n",
    "# I use shift(-1) so the window starts the day *after* t\n",
    "fwd_prod = (1 + df[\"daily_ret\"]).shift(-1).rolling(H).apply(np.prod, raw=True)\n",
    "df[\"fwd_5y_ret\"] = fwd_prod - 1\n",
    "\n",
    "empirical = df.dropna(subset=[\"fwd_5y_ret\"]).copy()\n",
    "pos_flag = (empirical[\"fwd_5y_ret\"] > 0).astype(int)\n",
    "\n",
    "empirical_prob = pos_flag.mean()\n",
    "n_obs = len(pos_flag)\n",
    "\n",
    "print(f\"Empirical P(5y return > 0) = {empirical_prob:.3f}  (n={n_obs})\")\n",
    "\n",
    "plt.figure()\n",
    "plt.hist(empirical[\"fwd_5y_ret\"], bins=40)\n",
    "plt.axvline(0, ls=\"--\")\n",
    "plt.title(\"Empirical distribution of 5-year forward returns (KO)\")\n",
    "plt.xlabel(\"5y forward return\"); plt.ylabel(\"count\")\n",
    "plt.show()\n"
   ]
  },
  {
   "cell_type": "code",
   "execution_count": 4,
   "id": "048cbe6c",
   "metadata": {},
   "outputs": [
    {
     "name": "stdout",
     "output_type": "stream",
     "text": [
      "Bootstrap P(>0) mean=0.930, 95% CI=(0.923, 0.937)\n"
     ]
    },
    {
     "data": {
      "image/png": "[encoded data removed]",
      "text/plain": [
       "<Figure size 640x480 with 1 Axes>"
      ]
     },
     "metadata": {},
     "output_type": "display_data"
    }
   ],
   "source": [
    "def bootstrap_positive_prob(flags, n_boot=2000, seed=123, alpha=0.05):\n",
    "    rng = np.random.default_rng(seed)\n",
    "    stats = []\n",
    "    idx = np.arange(len(flags))\n",
    "    for _ in range(n_boot):\n",
    "        b = rng.choice(idx, size=len(idx), replace=True)\n",
    "        stats.append(flags[b].mean())\n",
    "    lo = np.percentile(stats, 100*alpha/2)\n",
    "    hi = np.percentile(stats, 100*(1-alpha/2))\n",
    "    return float(np.mean(stats)), float(lo), float(hi), np.array(stats)\n",
    "\n",
    "boot_mean, boot_lo, boot_hi, boot_draws = bootstrap_positive_prob(pos_flag.values)\n",
    "print(f\"Bootstrap P(>0) mean={boot_mean:.3f}, 95% CI=({boot_lo:.3f}, {boot_hi:.3f})\")\n",
    "\n",
    "plt.figure()\n",
    "plt.hist(boot_draws, bins=40, density=True)\n",
    "plt.axvline(boot_lo, color=\"k\", ls=\"--\")\n",
    "plt.axvline(boot_hi, color=\"k\", ls=\"--\")\n",
    "plt.title(\"Bootstrap sampling distribution of P(5y > 0)\")\n",
    "plt.xlabel(\"probability\"); plt.ylabel(\"density\")\n",
    "plt.show()\n"
   ]
  },
  {
   "cell_type": "code",
   "execution_count": 6,
   "id": "70479169",
   "metadata": {},
   "outputs": [
    {
     "name": "stdout",
     "output_type": "stream",
     "text": [
      "MC-Normal   P(5y > 0) ≈ 0.753 (μ=0.000336, σ=0.012873)\n",
      "MC-Resample P(5y > 0) ≈ 0.759 (empirical resampling)\n"
     ]
    },
    {
     "data": {
      "image/png": "[encoded data removed]",
      "text/plain": [
       "<Figure size 640x480 with 1 Axes>"
      ]
     },
     "metadata": {},
     "output_type": "display_data"
    }
   ],
   "source": [
    "mu_hat = df[\"daily_ret\"].mean()\n",
    "sigma_hat = df[\"daily_ret\"].std(ddof=1)\n",
    "\n",
    "def simulate_prob_positive_5y_normal(mu, sigma, n_paths=20000, horizon=H, seed=7):\n",
    "    rng = np.random.default_rng(seed)\n",
    "    R = rng.normal(mu, sigma, size=(n_paths, horizon))\n",
    "    cum = (1 + R).prod(axis=1) - 1\n",
    "    return float((cum > 0).mean()), cum\n",
    "\n",
    "def simulate_prob_positive_5y_resample(returns, n_paths=20000, horizon=H, seed=8):\n",
    "    rng = np.random.default_rng(seed)\n",
    "    idx = np.arange(len(returns))\n",
    "    # sample daily returns with replacement\n",
    "    sam = returns[rng.choice(idx, size=(n_paths, horizon), replace=True)]\n",
    "    cum = (1 + sam).prod(axis=1) - 1\n",
    "    return float((cum > 0).mean()), cum\n",
    "\n",
    "p_norm, cum_norm = simulate_prob_positive_5y_normal(mu_hat, sigma_hat)\n",
    "p_boot, cum_boot = simulate_prob_positive_5y_resample(df[\"daily_ret\"].values)\n",
    "\n",
    "print(f\"MC-Normal   P(5y > 0) ≈ {p_norm:.3f} (μ={mu_hat:.6f}, σ={sigma_hat:.6f})\")\n",
    "print(f\"MC-Resample P(5y > 0) ≈ {p_boot:.3f} (empirical resampling)\")\n",
    "\n",
    "plt.figure()\n",
    "plt.hist(cum_norm, bins=40, alpha=0.5, label=\"MC-Normal\")\n",
    "plt.hist(cum_boot, bins=40, alpha=0.5, label=\"MC-Resample\")\n",
    "plt.axvline(0, ls=\"--\", color=\"k\")\n",
    "plt.title(\"Monte-Carlo 5y cumulative returns (two scenarios)\")\n",
    "plt.legend(); plt.show()\n"
   ]
  },
  {
   "cell_type": "markdown",
   "id": "f9fd4cd3",
   "metadata": {},
   "source": [
    "## Scenario Sensitivity (Required): Choose ≥2 Scenarios\n",
    "Examples: mean vs median impute; drop; alternate feature transform"
   ]
  },
  {
   "cell_type": "code",
   "execution_count": 7,
   "id": "c9973c16",
   "metadata": {
    "tags": [
     "grade_required"
    ]
   },
   "outputs": [
    {
     "data": {
      "text/html": [
       "<div>\n",
       "<style scoped>\n",
       "    .dataframe tbody tr th:only-of-type {\n",
       "        vertical-align: middle;\n",
       "    }\n",
       "\n",
       "    .dataframe tbody tr th {\n",
       "        vertical-align: top;\n",
       "    }\n",
       "\n",
       "    .dataframe thead th {\n",
       "        text-align: right;\n",
       "    }\n",
       "</style>\n",
       "<table border=\"1\" class=\"dataframe\">\n",
       "  <thead>\n",
       "    <tr style=\"text-align: right;\">\n",
       "      <th></th>\n",
       "      <th>scenario</th>\n",
       "      <th>prob_positive</th>\n",
       "      <th>notes</th>\n",
       "    </tr>\n",
       "  </thead>\n",
       "  <tbody>\n",
       "    <tr>\n",
       "      <th>0</th>\n",
       "      <td>Empirical windows</td>\n",
       "      <td>0.930403</td>\n",
       "      <td>n=5187 windows</td>\n",
       "    </tr>\n",
       "    <tr>\n",
       "      <th>1</th>\n",
       "      <td>Bootstrap mean (CI)</td>\n",
       "      <td>0.930238</td>\n",
       "      <td>95% CI=(0.923,0.937)</td>\n",
       "    </tr>\n",
       "    <tr>\n",
       "      <th>2</th>\n",
       "      <td>MC-Normal</td>\n",
       "      <td>0.753500</td>\n",
       "      <td>Normal(μ̂,σ̂); i.i.d.</td>\n",
       "    </tr>\n",
       "    <tr>\n",
       "      <th>3</th>\n",
       "      <td>MC-Resample</td>\n",
       "      <td>0.759400</td>\n",
       "      <td>Daily resampling; i.i.d.</td>\n",
       "    </tr>\n",
       "  </tbody>\n",
       "</table>\n",
       "</div>"
      ],
      "text/plain": [
       "              scenario  prob_positive                     notes\n",
       "0    Empirical windows       0.930403            n=5187 windows\n",
       "1  Bootstrap mean (CI)       0.930238      95% CI=(0.923,0.937)\n",
       "2            MC-Normal       0.753500     Normal(μ̂,σ̂); i.i.d.\n",
       "3          MC-Resample       0.759400  Daily resampling; i.i.d."
      ]
     },
     "execution_count": 7,
     "metadata": {},
     "output_type": "execute_result"
    }
   ],
   "source": [
    "sens = pd.DataFrame({\n",
    "    \"scenario\": [\"Empirical windows\", \"Bootstrap mean (CI)\", \"MC-Normal\", \"MC-Resample\"],\n",
    "    \"prob_positive\": [\n",
    "        empirical_prob,\n",
    "        boot_mean,\n",
    "        p_norm,\n",
    "        p_boot\n",
    "    ],\n",
    "    \"notes\": [\n",
    "        f\"n={n_obs} windows\",\n",
    "        f\"95% CI=({boot_lo:.3f},{boot_hi:.3f})\",\n",
    "        f\"Normal(μ̂,σ̂); i.i.d.\",\n",
    "        \"Daily resampling; i.i.d.\"\n",
    "    ]\n",
    "})\n",
    "sens\n"
   ]
  },
  {
   "cell_type": "markdown",
   "id": "207a8d73",
   "metadata": {},
   "source": [
    "## Subgroup Diagnostic (Required)"
   ]
  },
  {
   "cell_type": "code",
   "execution_count": 8,
   "id": "864b7ef5",
   "metadata": {
    "tags": [
     "grade_required"
    ]
   },
   "outputs": [
    {
     "name": "stderr",
     "output_type": "stream",
     "text": [
      "C:\\Users\\marti\\AppData\\Local\\Temp\\ipykernel_21972\\4101177603.py:6: FutureWarning: The default of observed=False is deprecated and will be changed to True in a future version of pandas. Pass observed=False to retain current behavior or observed=True to adopt the future default and silence this warning.\n",
      "  g = emp.groupby(\"era\")[\"fwd_5y_ret\"].apply(lambda s: (s>0).mean()).reset_index(name=\"P(>0)\")\n"
     ]
    },
    {
     "data": {
      "text/html": [
       "<div>\n",
       "<style scoped>\n",
       "    .dataframe tbody tr th:only-of-type {\n",
       "        vertical-align: middle;\n",
       "    }\n",
       "\n",
       "    .dataframe tbody tr th {\n",
       "        vertical-align: top;\n",
       "    }\n",
       "\n",
       "    .dataframe thead th {\n",
       "        text-align: right;\n",
       "    }\n",
       "</style>\n",
       "<table border=\"1\" class=\"dataframe\">\n",
       "  <thead>\n",
       "    <tr style=\"text-align: right;\">\n",
       "      <th></th>\n",
       "      <th>era</th>\n",
       "      <th>P(&gt;0)</th>\n",
       "    </tr>\n",
       "  </thead>\n",
       "  <tbody>\n",
       "    <tr>\n",
       "      <th>0</th>\n",
       "      <td>2000–05</td>\n",
       "      <td>0.072581</td>\n",
       "    </tr>\n",
       "    <tr>\n",
       "      <th>1</th>\n",
       "      <td>2006–10</td>\n",
       "      <td>0.895949</td>\n",
       "    </tr>\n",
       "    <tr>\n",
       "      <th>2</th>\n",
       "      <td>2011–15</td>\n",
       "      <td>1.000000</td>\n",
       "    </tr>\n",
       "    <tr>\n",
       "      <th>3</th>\n",
       "      <td>2016–20</td>\n",
       "      <td>1.000000</td>\n",
       "    </tr>\n",
       "    <tr>\n",
       "      <th>4</th>\n",
       "      <td>2021–25</td>\n",
       "      <td>1.000000</td>\n",
       "    </tr>\n",
       "  </tbody>\n",
       "</table>\n",
       "</div>"
      ],
      "text/plain": [
       "       era     P(>0)\n",
       "0  2000–05  0.072581\n",
       "1  2006–10  0.895949\n",
       "2  2011–15  1.000000\n",
       "3  2016–20  1.000000\n",
       "4  2021–25  1.000000"
      ]
     },
     "execution_count": 8,
     "metadata": {},
     "output_type": "execute_result"
    }
   ],
   "source": [
    "emp = empirical.copy()\n",
    "emp[\"year\"] = emp[\"Date\"].dt.year\n",
    "emp[\"era\"] = pd.cut(emp[\"year\"], bins=[1999, 2005, 2010, 2015, 2020, 2026],\n",
    "                    labels=[\"2000–05\",\"2006–10\",\"2011–15\",\"2016–20\",\"2021–25\"], include_lowest=True)\n",
    "\n",
    "g = emp.groupby(\"era\")[\"fwd_5y_ret\"].apply(lambda s: (s>0).mean()).reset_index(name=\"P(>0)\")\n",
    "g\n"
   ]
  },
  {
   "cell_type": "code",
   "execution_count": 9,
   "id": "73573097",
   "metadata": {},
   "outputs": [
    {
     "data": {
      "image/png": "[encoded data removed]",
      "text/plain": [
       "<Figure size 640x480 with 1 Axes>"
      ]
     },
     "metadata": {},
     "output_type": "display_data"
    }
   ],
   "source": [
    "plt.figure()\n",
    "plt.scatter(g[\"era\"], g[\"P(>0)\"])\n",
    "plt.ylim(0,1); plt.title(\"P(5y > 0) by era\")\n",
    "plt.ylabel(\"probability\"); plt.xlabel(\"era\")\n",
    "plt.show()\n"
   ]
  },
  {
   "cell_type": "markdown",
   "id": "f5a8376f",
   "metadata": {},
   "source": [
    "## Stakeholder Summary (Required — ≤ 1 page)\n",
    "- Key assumptions\n",
    "- Sensitivity results & takeaways\n",
    "- Subgroup risks\n",
    "- “Prediction holds if…”, “Model is sensitive to…”"
   ]
  },
  {
   "cell_type": "markdown",
   "id": "70bf6412",
   "metadata": {},
   "source": [
    "- Key assumptions\n",
    "\n",
    "Historical patterns are informative for future returns.\n",
    "Daily returns are approximately stationary (distribution does not shift dramatically).\n",
    "Model ignores extreme structural breaks (e.g., crises or regime changes).\n",
    "\n",
    "- Sensitivity results & takeaways\n",
    "\n",
    "Empirical analysis shows a 93% probability that Coca-Cola (KO) delivers a positive 5-year return.\n",
    "Bootstrap resampling confirms this estimate is stable: 95% CI = (92.3%, 93.7%).\n",
    "Monte Carlo scenarios are more conservative:\n",
    "Normal assumption: ~75% probability of positive 5-year returns.\n",
    "Empirical resampling: ~76%.\n",
    "This means the optimistic conclusion is robust, but probability can fall if we assume stronger shocks.\n",
    "\n",
    "- Subgroup risks\n",
    "\n",
    "Performance depends on market era:\n",
    "2000–05: only ~7% probability of positive 5-year returns (dot-com crash aftermath).\n",
    "2006 onward: probabilities close to 100%.\n",
    "The model is therefore sensitive to market regimes.\n",
    "\n",
    "- Plain-language takeaway\n",
    "\n",
    "Historically, KO has delivered positive returns in more than 9 out of 10 rolling 5-year windows.\n",
    "The conclusion holds if market volatility and business fundamentals stay comparable to the past two decades.\n",
    "The main risk is a regime similar to early 2000s, when long-term investors experienced losses."
   ]
  }
 ],
 "metadata": {
  "kernelspec": {
   "display_name": "fe-course",
   "language": "python",
   "name": "python3"
  },
  "language_info": {
   "codemirror_mode": {
    "name": "ipython",
    "version": 3
   },
   "file_extension": ".py",
   "mimetype": "text/x-python",
   "name": "python",
   "nbconvert_exporter": "python",
   "pygments_lexer": "ipython3",
   "version": "3.11.13"
  }
 },
 "nbformat": 4,
 "nbformat_minor": 5
}
