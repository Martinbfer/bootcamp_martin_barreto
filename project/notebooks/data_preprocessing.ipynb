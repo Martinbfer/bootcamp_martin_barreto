{
 "cells": [
  {
   "cell_type": "code",
   "execution_count": 2,
   "id": "f57eb232",
   "metadata": {},
   "outputs": [
    {
     "data": {
      "text/html": [
       "<div>\n",
       "<style scoped>\n",
       "    .dataframe tbody tr th:only-of-type {\n",
       "        vertical-align: middle;\n",
       "    }\n",
       "\n",
       "    .dataframe tbody tr th {\n",
       "        vertical-align: top;\n",
       "    }\n",
       "\n",
       "    .dataframe thead th {\n",
       "        text-align: right;\n",
       "    }\n",
       "</style>\n",
       "<table border=\"1\" class=\"dataframe\">\n",
       "  <thead>\n",
       "    <tr style=\"text-align: right;\">\n",
       "      <th></th>\n",
       "      <th>Date</th>\n",
       "      <th>close</th>\n",
       "      <th>daily_ret</th>\n",
       "      <th>log_ret</th>\n",
       "    </tr>\n",
       "  </thead>\n",
       "  <tbody>\n",
       "    <tr>\n",
       "      <th>0</th>\n",
       "      <td>2000-01-03</td>\n",
       "      <td>13.815726</td>\n",
       "      <td>NaN</td>\n",
       "      <td>NaN</td>\n",
       "    </tr>\n",
       "    <tr>\n",
       "      <th>1</th>\n",
       "      <td>2000-01-04</td>\n",
       "      <td>13.831048</td>\n",
       "      <td>0.001109</td>\n",
       "      <td>0.001108</td>\n",
       "    </tr>\n",
       "    <tr>\n",
       "      <th>2</th>\n",
       "      <td>2000-01-05</td>\n",
       "      <td>13.953581</td>\n",
       "      <td>0.008859</td>\n",
       "      <td>0.008820</td>\n",
       "    </tr>\n",
       "    <tr>\n",
       "      <th>3</th>\n",
       "      <td>2000-01-06</td>\n",
       "      <td>13.968897</td>\n",
       "      <td>0.001098</td>\n",
       "      <td>0.001097</td>\n",
       "    </tr>\n",
       "    <tr>\n",
       "      <th>4</th>\n",
       "      <td>2000-01-07</td>\n",
       "      <td>14.887897</td>\n",
       "      <td>0.065789</td>\n",
       "      <td>0.063715</td>\n",
       "    </tr>\n",
       "  </tbody>\n",
       "</table>\n",
       "</div>"
      ],
      "text/plain": [
       "        Date      close  daily_ret   log_ret\n",
       "0 2000-01-03  13.815726        NaN       NaN\n",
       "1 2000-01-04  13.831048   0.001109  0.001108\n",
       "2 2000-01-05  13.953581   0.008859  0.008820\n",
       "3 2000-01-06  13.968897   0.001098  0.001097\n",
       "4 2000-01-07  14.887897   0.065789  0.063715"
      ]
     },
     "execution_count": 2,
     "metadata": {},
     "output_type": "execute_result"
    }
   ],
   "source": [
    "import sys\n",
    "from pathlib import Path\n",
    "import pandas as pd\n",
    "\n",
    "# enable imports from /src\n",
    "sys.path.insert(0, str(Path.cwd().parent))\n",
    "from src.cleaning import drop_missing_dates, ensure_numeric, fill_missing_with_ffill, add_log_returns\n",
    "\n",
    "in_path  = Path(\"../data/processed/ko_daily_returns.parquet\")\n",
    "out_path = Path(\"../data/processed/ko_cleaned.parquet\")\n",
    "\n",
    "df = pd.read_parquet(in_path)\n",
    "df = drop_missing_dates(df, \"Date\")\n",
    "df = ensure_numeric(df, [\"close\", \"daily_ret\"])\n",
    "df = fill_missing_with_ffill(df, [\"close\", \"daily_ret\"])\n",
    "df = add_log_returns(df, \"close\")\n",
    "df.to_parquet(out_path, index=False)\n",
    "\n",
    "df.head()\n",
    "\n"
   ]
  }
 ],
 "metadata": {
  "kernelspec": {
   "display_name": "fe-course",
   "language": "python",
   "name": "python3"
  },
  "language_info": {
   "codemirror_mode": {
    "name": "ipython",
    "version": 3
   },
   "file_extension": ".py",
   "mimetype": "text/x-python",
   "name": "python",
   "nbconvert_exporter": "python",
   "pygments_lexer": "ipython3",
   "version": "3.11.13"
  }
 },
 "nbformat": 4,
 "nbformat_minor": 5
}
