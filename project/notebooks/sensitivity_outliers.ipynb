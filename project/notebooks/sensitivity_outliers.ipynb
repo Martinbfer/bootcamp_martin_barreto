{
 "cells": [
  {
   "cell_type": "code",
   "execution_count": 4,
   "id": "6e18d620",
   "metadata": {},
   "outputs": [
    {
     "data": {
      "text/html": [
       "<div>\n",
       "<style scoped>\n",
       "    .dataframe tbody tr th:only-of-type {\n",
       "        vertical-align: middle;\n",
       "    }\n",
       "\n",
       "    .dataframe tbody tr th {\n",
       "        vertical-align: top;\n",
       "    }\n",
       "\n",
       "    .dataframe thead th {\n",
       "        text-align: right;\n",
       "    }\n",
       "</style>\n",
       "<table border=\"1\" class=\"dataframe\">\n",
       "  <thead>\n",
       "    <tr style=\"text-align: right;\">\n",
       "      <th></th>\n",
       "      <th>Date</th>\n",
       "      <th>close</th>\n",
       "      <th>daily_ret</th>\n",
       "      <th>log_ret</th>\n",
       "    </tr>\n",
       "  </thead>\n",
       "  <tbody>\n",
       "    <tr>\n",
       "      <th>0</th>\n",
       "      <td>2000-01-03</td>\n",
       "      <td>13.815726</td>\n",
       "      <td>NaN</td>\n",
       "      <td>NaN</td>\n",
       "    </tr>\n",
       "    <tr>\n",
       "      <th>1</th>\n",
       "      <td>2000-01-04</td>\n",
       "      <td>13.831048</td>\n",
       "      <td>0.001109</td>\n",
       "      <td>0.001108</td>\n",
       "    </tr>\n",
       "    <tr>\n",
       "      <th>2</th>\n",
       "      <td>2000-01-05</td>\n",
       "      <td>13.953581</td>\n",
       "      <td>0.008859</td>\n",
       "      <td>0.008820</td>\n",
       "    </tr>\n",
       "    <tr>\n",
       "      <th>3</th>\n",
       "      <td>2000-01-06</td>\n",
       "      <td>13.968897</td>\n",
       "      <td>0.001098</td>\n",
       "      <td>0.001097</td>\n",
       "    </tr>\n",
       "    <tr>\n",
       "      <th>4</th>\n",
       "      <td>2000-01-07</td>\n",
       "      <td>14.887897</td>\n",
       "      <td>0.065789</td>\n",
       "      <td>0.063715</td>\n",
       "    </tr>\n",
       "  </tbody>\n",
       "</table>\n",
       "</div>"
      ],
      "text/plain": [
       "        Date      close  daily_ret   log_ret\n",
       "0 2000-01-03  13.815726        NaN       NaN\n",
       "1 2000-01-04  13.831048   0.001109  0.001108\n",
       "2 2000-01-05  13.953581   0.008859  0.008820\n",
       "3 2000-01-06  13.968897   0.001098  0.001097\n",
       "4 2000-01-07  14.887897   0.065789  0.063715"
      ]
     },
     "execution_count": 4,
     "metadata": {},
     "output_type": "execute_result"
    }
   ],
   "source": [
    "import sys\n",
    "from pathlib import Path\n",
    "import pandas as pd\n",
    "\n",
    "SRC_PATH = Path.cwd().parent / \"src\"\n",
    "sys.path.append(str(SRC_PATH))\n",
    "\n",
    "from outliers import detect_outliers_iqr\n",
    "\n",
    "DATA_IN = Path(\"../data/processed/ko_cleaned.parquet\")\n",
    "df = pd.read_parquet(DATA_IN)\n",
    "df.head()\n",
    "\n"
   ]
  },
  {
   "cell_type": "code",
   "execution_count": 5,
   "id": "046a59d0",
   "metadata": {},
   "outputs": [
    {
     "name": "stdout",
     "output_type": "stream",
     "text": [
      "Cutoffs (Q1-1.5*IQR, Q3+1.5*IQR): (-0.02302108123534044, 0.023753060302261958)\n"
     ]
    },
    {
     "data": {
      "text/plain": [
       "np.float64(0.06374069478908188)"
      ]
     },
     "execution_count": 5,
     "metadata": {},
     "output_type": "execute_result"
    }
   ],
   "source": [
    "target_col = \"daily_ret\"   # o \"log_ret\"\n",
    "mask_iqr, bounds = detect_outliers_iqr(df[target_col], k=1.5, return_bounds=True)\n",
    "df[\"outlier_iqr\"] = mask_iqr\n",
    "\n",
    "print(\"Cutoffs (Q1-1.5*IQR, Q3+1.5*IQR):\", bounds)\n",
    "df[\"outlier_iqr\"].mean()  # fracción de filas marcadas\n"
   ]
  },
  {
   "cell_type": "code",
   "execution_count": 6,
   "id": "cc7cc429",
   "metadata": {},
   "outputs": [
    {
     "data": {
      "text/html": [
       "<div>\n",
       "<style scoped>\n",
       "    .dataframe tbody tr th:only-of-type {\n",
       "        vertical-align: middle;\n",
       "    }\n",
       "\n",
       "    .dataframe tbody tr th {\n",
       "        vertical-align: top;\n",
       "    }\n",
       "\n",
       "    .dataframe thead th {\n",
       "        text-align: right;\n",
       "    }\n",
       "</style>\n",
       "<table border=\"1\" class=\"dataframe\">\n",
       "  <thead>\n",
       "    <tr style=\"text-align: right;\">\n",
       "      <th></th>\n",
       "      <th>all</th>\n",
       "      <th>filtered_iqr</th>\n",
       "    </tr>\n",
       "  </thead>\n",
       "  <tbody>\n",
       "    <tr>\n",
       "      <th>mean</th>\n",
       "      <td>0.000336</td>\n",
       "      <td>0.000473</td>\n",
       "    </tr>\n",
       "    <tr>\n",
       "      <th>median</th>\n",
       "      <td>0.000447</td>\n",
       "      <td>0.000479</td>\n",
       "    </tr>\n",
       "    <tr>\n",
       "      <th>std</th>\n",
       "      <td>0.012873</td>\n",
       "      <td>0.008623</td>\n",
       "    </tr>\n",
       "  </tbody>\n",
       "</table>\n",
       "</div>"
      ],
      "text/plain": [
       "             all  filtered_iqr\n",
       "mean    0.000336      0.000473\n",
       "median  0.000447      0.000479\n",
       "std     0.012873      0.008623"
      ]
     },
     "execution_count": 6,
     "metadata": {},
     "output_type": "execute_result"
    }
   ],
   "source": [
    "summ_all = df[target_col].describe()[[\"mean\",\"50%\",\"std\"]].rename({\"50%\":\"median\"})\n",
    "summ_flt = df.loc[~df[\"outlier_iqr\"], target_col].describe()[[\"mean\",\"50%\",\"std\"]].rename({\"50%\":\"median\"})\n",
    "pd.concat({\"all\": summ_all, \"filtered_iqr\": summ_flt}, axis=1)\n"
   ]
  },
  {
   "cell_type": "code",
   "execution_count": 7,
   "id": "dfa0046d",
   "metadata": {},
   "outputs": [
    {
     "name": "stderr",
     "output_type": "stream",
     "text": [
      "C:\\Users\\marti\\AppData\\Local\\Temp\\ipykernel_17156\\3530214742.py:2: MatplotlibDeprecationWarning: The 'labels' parameter of boxplot() has been renamed 'tick_labels' since Matplotlib 3.9; support for the old name will be dropped in 3.11.\n",
      "  plt.boxplot([df[target_col].dropna(),\n"
     ]
    },
    {
     "data": {
      "image/png": "[encoded data removed]",
      "text/plain": [
       "<Figure size 640x480 with 1 Axes>"
      ]
     },
     "metadata": {},
     "output_type": "display_data"
    }
   ],
   "source": [
    "plt.figure()\n",
    "plt.boxplot([df[target_col].dropna(),\n",
    "             df.loc[~df[\"outlier_iqr\"], target_col].dropna()],\n",
    "            labels=[\"all\",\"filtered_iqr\"])\n",
    "plt.title(f\"Before/After: {target_col}\")\n",
    "plt.show()\n"
   ]
  },
  {
   "cell_type": "code",
   "execution_count": 8,
   "id": "6dba89dd",
   "metadata": {},
   "outputs": [
    {
     "data": {
      "text/plain": [
       "WindowsPath('../data/processed/ko_no_outliers.parquet')"
      ]
     },
     "execution_count": 8,
     "metadata": {},
     "output_type": "execute_result"
    }
   ],
   "source": [
    "OUT_FLAGGED = Path(\"../data/processed/ko_with_outlier_flag.parquet\")\n",
    "df.to_parquet(OUT_FLAGGED, index=False)\n",
    "OUT_FLAGGED\n",
    "\n",
    "OUT_FILTERED = Path(\"../data/processed/ko_no_outliers.parquet\")\n",
    "df.loc[~df[\"outlier_iqr\"]].to_parquet(OUT_FILTERED, index=False)\n",
    "OUT_FILTERED\n"
   ]
  },
  {
   "cell_type": "markdown",
   "id": "9c388117",
   "metadata": {},
   "source": [
    "Description in the project's root README"
   ]
  }
 ],
 "metadata": {
  "kernelspec": {
   "display_name": "fe-course",
   "language": "python",
   "name": "python3"
  },
  "language_info": {
   "codemirror_mode": {
    "name": "ipython",
    "version": 3
   },
   "file_extension": ".py",
   "mimetype": "text/x-python",
   "name": "python",
   "nbconvert_exporter": "python",
   "pygments_lexer": "ipython3",
   "version": "3.11.13"
  }
 },
 "nbformat": 4,
 "nbformat_minor": 5
}
