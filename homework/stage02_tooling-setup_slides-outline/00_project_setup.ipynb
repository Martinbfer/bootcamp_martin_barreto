{
 "cells": [
  {
   "cell_type": "code",
   "execution_count": 1,
   "id": "db459a6b-a1c2-48cf-a912-0d992622f0be",
   "metadata": {},
   "outputs": [],
   "source": [
    "# Environment & Config Check"
   ]
  },
  {
   "cell_type": "code",
   "execution_count": 1,
   "id": "1d7fad3c-04ab-4be5-8018-baa9d9690d50",
   "metadata": {},
   "outputs": [
    {
     "name": "stdout",
     "output_type": "stream",
     "text": [
      "PROJECT_ROOT: c:\\Users\\marti\\bootcamp_martin_barreto\\homework\\stage02_tooling-setup_slides-outline\n",
      "DATA_DIR: c:\\Users\\marti\\bootcamp_martin_barreto\\homework\\stage02_tooling-setup_slides-outline\\data\n",
      "API_KEY: None\n",
      "API_KEY present: False\n",
      "Array: [1 2 3]\n",
      "Mean: 2.0\n",
      "DATA_DIR (from notebook cwd): C:\\Users\\marti\\bootcamp_martin_barreto\\homework\\stage02_tooling-setup_slides-outline\\data\n"
     ]
    }
   ],
   "source": [
    "# --- prepare imports from the project ---\n",
    "from pathlib import Path\n",
    "import sys\n",
    "\n",
    "# Add project root path to the Python path \n",
    "PROJECT_ROOT = Path.cwd().parent\n",
    "if str(PROJECT_ROOT) not in sys.path:\n",
    "    sys.path.insert(0, str(PROJECT_ROOT))\n",
    "\n",
    "# --- Use Config Helper ---\n",
    "from src.config import get_key  \n",
    "from dotenv import load_dotenv\n",
    "import numpy as np\n",
    "\n",
    "# Load .env \n",
    "load_dotenv(PROJECT_ROOT / \".env\")\n",
    "\n",
    "# Verify API_KEY\n",
    "api_present = get_key(\"API_KEY\") is not None\n",
    "print(\"API_KEY present:\", api_present)\n",
    "\n",
    "# Demo NumPy\n",
    "arr = np.array([1, 2, 3])\n",
    "print(\"Array:\", arr)\n",
    "print(\"Mean:\", arr.mean())\n",
    "\n",
    "# Show DATA_DIR path\n",
    "DATA_DIR = Path.cwd() / \"data\"\n",
    "print(\"DATA_DIR (from notebook cwd):\", DATA_DIR.resolve())\n"
   ]
  },
  {
   "cell_type": "code",
   "execution_count": null,
   "id": "9ef939d6-d792-42bf-89e1-a8fb03f8e9c2",
   "metadata": {},
   "outputs": [],
   "source": []
  }
 ],
 "metadata": {
  "kernelspec": {
   "display_name": "fe-course",
   "language": "python",
   "name": "python3"
  },
  "language_info": {
   "codemirror_mode": {
    "name": "ipython",
    "version": 3
   },
   "file_extension": ".py",
   "mimetype": "text/x-python",
   "name": "python",
   "nbconvert_exporter": "python",
   "pygments_lexer": "ipython3",
   "version": "3.11.13"
  }
 },
 "nbformat": 4,
 "nbformat_minor": 5
}
