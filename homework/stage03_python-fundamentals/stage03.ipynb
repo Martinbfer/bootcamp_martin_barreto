{
 "cells": [
  {
   "cell_type": "code",
   "execution_count": 1,
   "id": "cf299003-d56d-4194-a40a-413de497e912",
   "metadata": {},
   "outputs": [
    {
     "data": {
      "text/plain": [
       "{'t_loop_s': 0.02480509993620217,\n",
       " 't_vectorized_s': 0.0008011001627892256,\n",
       " 'speedup_x': 30.963793403607813}"
      ]
     },
     "execution_count": 1,
     "metadata": {},
     "output_type": "execute_result"
    }
   ],
   "source": [
    "import numpy as np\n",
    "import pandas as pd\n",
    "import matplotlib.pyplot as plt\n",
    "\n",
    "from src.utils import load_data, get_summary_stats, save_table, vectorized_vs_loop\n",
    "\n",
    "DATA_PATH = \"data/starter_data.csv\"\n",
    "PROCESSED_DIR = \"data/processed\"\n",
    "\n",
    "arr = np.array([1, 2, 3, 4, 5], dtype=np.float64)\n",
    "\n",
    "elemwise = {\n",
    "    \"arr\": arr,\n",
    "    \"arr_squared\": arr**2,\n",
    "    \"arr_plus_10\": arr + 10,\n",
    "    \"poly\": arr**2 + 2*arr + 1,  # (arr + 1)^2\n",
    "}\n",
    "elemwise\n",
    "\n",
    "# utils.py\n",
    "results = vectorized_vs_loop(n=100_000)  \n",
    "results\n",
    "\n"
   ]
  },
  {
   "cell_type": "code",
   "execution_count": 2,
   "id": "1026f2dc-4f8a-4bfc-8926-65d77e5f9277",
   "metadata": {},
   "outputs": [
    {
     "name": "stdout",
     "output_type": "stream",
     "text": [
      "<class 'pandas.core.frame.DataFrame'>\n",
      "RangeIndex: 10 entries, 0 to 9\n",
      "Data columns (total 3 columns):\n",
      " #   Column    Non-Null Count  Dtype \n",
      "---  ------    --------------  ----- \n",
      " 0   category  10 non-null     object\n",
      " 1   value     10 non-null     int64 \n",
      " 2   date      10 non-null     object\n",
      "dtypes: int64(1), object(2)\n",
      "memory usage: 372.0+ bytes\n"
     ]
    }
   ],
   "source": [
    "df = load_data(DATA_PATH)\n",
    "df.head()\n",
    "df.info()\n"
   ]
  },
  {
   "cell_type": "code",
   "execution_count": 3,
   "id": "acc67096-4546-461c-9f67-da6b433df255",
   "metadata": {},
   "outputs": [
    {
     "data": {
      "text/html": [
       "<div>\n",
       "<style scoped>\n",
       "    .dataframe tbody tr th:only-of-type {\n",
       "        vertical-align: middle;\n",
       "    }\n",
       "\n",
       "    .dataframe tbody tr th {\n",
       "        vertical-align: top;\n",
       "    }\n",
       "\n",
       "    .dataframe thead th {\n",
       "        text-align: right;\n",
       "    }\n",
       "</style>\n",
       "<table border=\"1\" class=\"dataframe\">\n",
       "  <thead>\n",
       "    <tr style=\"text-align: right;\">\n",
       "      <th></th>\n",
       "      <th>category</th>\n",
       "      <th>value_count</th>\n",
       "      <th>value_mean</th>\n",
       "      <th>value_std</th>\n",
       "      <th>value_min</th>\n",
       "      <th>value_median</th>\n",
       "      <th>value_max</th>\n",
       "    </tr>\n",
       "  </thead>\n",
       "  <tbody>\n",
       "    <tr>\n",
       "      <th>0</th>\n",
       "      <td>A</td>\n",
       "      <td>4</td>\n",
       "      <td>11.500000</td>\n",
       "      <td>1.290994</td>\n",
       "      <td>10</td>\n",
       "      <td>11.5</td>\n",
       "      <td>13</td>\n",
       "    </tr>\n",
       "    <tr>\n",
       "      <th>1</th>\n",
       "      <td>B</td>\n",
       "      <td>3</td>\n",
       "      <td>15.666667</td>\n",
       "      <td>2.081666</td>\n",
       "      <td>14</td>\n",
       "      <td>15.0</td>\n",
       "      <td>18</td>\n",
       "    </tr>\n",
       "    <tr>\n",
       "      <th>2</th>\n",
       "      <td>C</td>\n",
       "      <td>3</td>\n",
       "      <td>27.666667</td>\n",
       "      <td>2.516611</td>\n",
       "      <td>25</td>\n",
       "      <td>28.0</td>\n",
       "      <td>30</td>\n",
       "    </tr>\n",
       "  </tbody>\n",
       "</table>\n",
       "</div>"
      ],
      "text/plain": [
       "  category  value_count  value_mean  value_std  value_min  value_median  \\\n",
       "0        A            4   11.500000   1.290994         10          11.5   \n",
       "1        B            3   15.666667   2.081666         14          15.0   \n",
       "2        C            3   27.666667   2.516611         25          28.0   \n",
       "\n",
       "   value_max  \n",
       "0         13  \n",
       "1         18  \n",
       "2         30  "
      ]
     },
     "execution_count": 3,
     "metadata": {},
     "output_type": "execute_result"
    }
   ],
   "source": [
    "summary_global = get_summary_stats(df)\n",
    "summary_global\n",
    "\n",
    "category_col = \"category\"\n",
    "\n",
    "summary_by_cat = get_summary_stats(df, by=category_col)\n",
    "summary_by_cat\n"
   ]
  },
  {
   "cell_type": "code",
   "execution_count": 4,
   "id": "67542d33-b893-49c9-a426-248be60b6c67",
   "metadata": {},
   "outputs": [],
   "source": [
    "save_table(\n",
    "    summary_by_cat,\n",
    "    out_csv=f\"{PROCESSED_DIR}/summary_by_category.csv\",\n",
    "    out_json=f\"{PROCESSED_DIR}/summary_by_category.json\"\n",
    ")\n"
   ]
  },
  {
   "cell_type": "code",
   "execution_count": 5,
   "id": "13b9849a-d3cc-4598-bdc8-b05d5a2717c6",
   "metadata": {},
   "outputs": [
    {
     "data": {
      "image/png": "[encoded data removed]",
      "text/plain": [
       "<Figure size 640x480 with 1 Axes>"
      ]
     },
     "metadata": {},
     "output_type": "display_data"
    },
    {
     "name": "stdout",
     "output_type": "stream",
     "text": [
      "Plot saved at: data/processed/hist_value.png\n"
     ]
    }
   ],
   "source": [
    "plt.figure()\n",
    "df[\"value\"].plot(kind=\"hist\", bins=10, title=\"Histogram of 'value'\")\n",
    "plt.xlabel(\"value\")\n",
    "plt.ylabel(\"frequency\")\n",
    "\n",
    "# save plot\n",
    "plot_path = f\"{PROCESSED_DIR}/hist_value.png\"\n",
    "plt.savefig(plot_path, dpi=150, bbox_inches=\"tight\")\n",
    "plt.show()\n",
    "\n",
    "print(f\"Plot saved at: {plot_path}\")"
   ]
  },
  {
   "cell_type": "code",
   "execution_count": null,
   "id": "993916f7-b1ea-4692-822e-4001f1d46982",
   "metadata": {},
   "outputs": [],
   "source": []
  }
 ],
 "metadata": {
  "kernelspec": {
   "display_name": "fe-course",
   "language": "python",
   "name": "python3"
  },
  "language_info": {
   "codemirror_mode": {
    "name": "ipython",
    "version": 3
   },
   "file_extension": ".py",
   "mimetype": "text/x-python",
   "name": "python",
   "nbconvert_exporter": "python",
   "pygments_lexer": "ipython3",
   "version": "3.11.13"
  }
 },
 "nbformat": 4,
 "nbformat_minor": 5
}
