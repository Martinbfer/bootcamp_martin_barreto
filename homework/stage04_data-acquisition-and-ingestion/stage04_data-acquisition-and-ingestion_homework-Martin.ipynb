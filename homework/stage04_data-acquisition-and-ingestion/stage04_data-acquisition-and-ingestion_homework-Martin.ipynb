{
 "cells": [
  {
   "cell_type": "markdown",
   "metadata": {},
   "source": [
    "# Homework Starter — Stage 04: Data Acquisition and Ingestion\n",
    "Name: \n",
    "Date: \n",
    "\n",
    "## Objectives\n",
    "- API ingestion with secrets in `.env`\n",
    "- Scrape a permitted public table\n",
    "- Validate and save raw data to `data/raw/`"
   ]
  },
  {
   "cell_type": "code",
   "execution_count": 2,
   "metadata": {},
   "outputs": [
    {
     "name": "stdout",
     "output_type": "stream",
     "text": [
      "ALPHAVANTAGE_API_KEY loaded? True\n"
     ]
    }
   ],
   "source": [
    "import os, pathlib, datetime as dt\n",
    "import requests\n",
    "import pandas as pd\n",
    "from bs4 import BeautifulSoup\n",
    "from dotenv import load_dotenv\n",
    "\n",
    "RAW = pathlib.Path('data/raw'); RAW.mkdir(parents=True, exist_ok=True)\n",
    "load_dotenv(); print('ALPHAVANTAGE_API_KEY loaded?', bool(os.getenv('ALPHAVANTAGE_API_KEY')))"
   ]
  },
  {
   "cell_type": "markdown",
   "metadata": {},
   "source": [
    "## Helpers (use or modify)"
   ]
  },
  {
   "cell_type": "code",
   "execution_count": 8,
   "metadata": {},
   "outputs": [],
   "source": [
    "def ts():\n",
    "    return dt.datetime.now().strftime('%Y%m%d-%H%M%S')\n",
    "\n",
    "def save_csv(df: pd.DataFrame, prefix: str, **meta):\n",
    "    mid = '_'.join([f\"{k}-{v}\" for k,v in meta.items()])\n",
    "    path = RAW / f\"{prefix}_{mid}_{ts()}.csv\"\n",
    "    df.to_csv(path, index=False)\n",
    "    print('Saved', path)\n",
    "    return path\n",
    "\n",
    "def validate(df: pd.DataFrame, required):\n",
    "    missing = [c for c in required if c not in df.columns]\n",
    "    return {'missing': missing, 'shape': df.shape, 'na_total': int(df.isna().sum().sum())}"
   ]
  },
  {
   "cell_type": "markdown",
   "metadata": {},
   "source": [
    "## Part 1 — API Pull (Required)\n",
    "Choose an endpoint (e.g., Alpha Vantage or use `yfinance` fallback)."
   ]
  },
  {
   "cell_type": "code",
   "execution_count": 11,
   "metadata": {},
   "outputs": [
    {
     "name": "stdout",
     "output_type": "stream",
     "text": [
      "No data returned. Reason: Thank you for using Alpha Vantage! This is a premium endpoint. You may subscribe to any of the premium plans at https://www.alphavantage.co/premium/ to instantly unlock all premium endpoints\n"
     ]
    },
    {
     "data": {
      "text/plain": [
       "{'missing': [], 'shape': (63, 2), 'na_total': 0}"
      ]
     },
     "execution_count": 11,
     "metadata": {},
     "output_type": "execute_result"
    }
   ],
   "source": [
    "SYMBOL = 'AAPL'\n",
    "USE_ALPHA = bool(os.getenv('ALPHAVANTAGE_API_KEY'))\n",
    "\n",
    "if USE_ALPHA:\n",
    "    url = 'https://www.alphavantage.co/query'\n",
    "    params = {'function': 'TIME_SERIES_DAILY_ADJUSTED','symbol': SYMBOL,'outputsize': 'compact','apikey': os.getenv('ALPHAVANTAGE_API_KEY')}\n",
    "    r = requests.get(url, params=params, timeout=30)\n",
    "    r.raise_for_status()\n",
    "    js = r.json()\n",
    "    msg = js.get('Note') or js.get('Information') or js.get('Error Message')\n",
    "    keys = [k for k in js.keys() if 'Time Series' in k]\n",
    "    if msg or not keys:\n",
    "        print(\"No data returned. Reason:\", msg or f\"No 'Time Series' key. Keys: {list(js.keys())[:6]}\")\n",
    "        USE_ALPHA = False\n",
    "    else:\n",
    "        key = keys[0]\n",
    "        df_api = pd.DataFrame(js[key]).T.reset_index().rename(columns={'index':'date','5. adjusted close':'adj_close'})\n",
    "        if 'adj_close' not in df_api.columns and '4. close' in df_api.columns:\n",
    "            df_api = df_api.rename(columns={'4. close':'adj_close'})\n",
    "        df_api = df_api[['date','adj_close']]\n",
    "        df_api['date'] = pd.to_datetime(df_api['date'])\n",
    "        df_api['adj_close'] = pd.to_numeric(df_api['adj_close'], errors='coerce')\n",
    "        source_name = 'alpha'\n",
    "\n",
    "if not USE_ALPHA:\n",
    "    import yfinance as yf\n",
    "    tmp = yf.download(SYMBOL, period='3mo', interval='1d', auto_adjust=False, progress=False)\n",
    "    if tmp is None or tmp.empty:\n",
    "        tmp = yf.Ticker(SYMBOL).history(period='3mo', interval='1d', auto_adjust=False)\n",
    "    tmp = tmp.reset_index()\n",
    "    if 'Adj Close' in tmp.columns:\n",
    "        df_api = tmp[['Date', 'Adj Close']]\n",
    "    else:\n",
    "        df_api = tmp[['Date', 'Close']]\n",
    "    df_api.columns = ['date', 'adj_close']\n",
    "    source_name = 'yfinance'\n",
    "\n",
    "\n",
    "df_api = df_api.sort_values('date').reset_index(drop=True)\n",
    "v_api = validate(df_api, ['date','adj_close'])\n",
    "v_api\n"
   ]
  },
  {
   "cell_type": "code",
   "execution_count": 12,
   "metadata": {},
   "outputs": [
    {
     "name": "stdout",
     "output_type": "stream",
     "text": [
      "Saved data\\raw\\api_source-yfinance_symbol-AAPL_20250820-162740.csv\n"
     ]
    }
   ],
   "source": [
    "_ = save_csv(df_api.sort_values('date'), prefix='api', source='alpha' if USE_ALPHA else 'yfinance', symbol=SYMBOL)"
   ]
  },
  {
   "cell_type": "markdown",
   "metadata": {},
   "source": [
    "## Part 2 — Scrape a Public Table (Required)\n",
    "Replace `SCRAPE_URL` with a permitted page containing a simple table."
   ]
  },
  {
   "cell_type": "code",
   "execution_count": 14,
   "metadata": {},
   "outputs": [
    {
     "data": {
      "text/plain": [
       "{'missing': [], 'shape': (269, 4), 'na_total': 0}"
      ]
     },
     "execution_count": 14,
     "metadata": {},
     "output_type": "execute_result"
    }
   ],
   "source": [
    "SCRAPE_URL = 'https://www.iban.com/currency-codes'  # TODO: replace with permitted page\n",
    "headers = {'User-Agent':'AFE-Homework/1.0'}\n",
    "try:\n",
    "    resp = requests.get(SCRAPE_URL, headers=headers, timeout=30); resp.raise_for_status()\n",
    "    soup = BeautifulSoup(resp.text, 'html.parser')\n",
    "    rows = [[c.get_text(strip=True) for c in tr.find_all(['th','td'])] for tr in soup.find_all('tr')]\n",
    "    header, *data = [r for r in rows if r]\n",
    "    df_scrape = pd.DataFrame(data, columns=header)\n",
    "except Exception as e:\n",
    "    print('Scrape failed, using inline demo table:', e)\n",
    "    html = '<table><tr><th>Ticker</th><th>Price</th></tr><tr><td>AAA</td><td>101.2</td></tr></table>'\n",
    "    soup = BeautifulSoup(html, 'html.parser')\n",
    "    rows = [[c.get_text(strip=True) for c in tr.find_all(['th','td'])] for tr in soup.find_all('tr')]\n",
    "    header, *data = [r for r in rows if r]\n",
    "    df_scrape = pd.DataFrame(data, columns=header)\n",
    "\n",
    "if 'Price' in df_scrape.columns:\n",
    "    df_scrape['Price'] = pd.to_numeric(df_scrape['Price'], errors='coerce')\n",
    "v_scrape = validate(df_scrape, list(df_scrape.columns)); v_scrape"
   ]
  },
  {
   "cell_type": "code",
   "execution_count": 15,
   "metadata": {},
   "outputs": [
    {
     "name": "stdout",
     "output_type": "stream",
     "text": [
      "Saved data\\raw\\scrape_site-example_table-markets_20250820-163703.csv\n"
     ]
    }
   ],
   "source": [
    "_ = save_csv(df_scrape, prefix='scrape', site='example', table='markets')"
   ]
  },
  {
   "cell_type": "markdown",
   "metadata": {},
   "source": [
    "## Documentation\n",
    "- API Source:\n",
    " Yahoo Finance via `yfinance` (fallback)\n",
    " Ticker: `AAPL`\n",
    " Params: `period='3mo'`, `interval='1d'`, `auto_adjust=False`\n",
    " Notes: If `Adj Close` is missing, `Close`is used.\n",
    "-if key present: Alpha Vantage\n",
    " URL:`https://www.alphavantage.co/query`\n",
    " Functions tried: `TIME_SERIES_DAILY_ADJUSTED` (may be premium) → fallback to `TIME_SERIES_DAILY`\n",
    " Params:`symbol=AAPL`, `outputsize=compact`, `apikey=<from .env>`\n",
    " Guard rails: If response has `Note/Information/Error Message` or no \"Time Series\" key, falls back to `yfinance`.\n",
    "\n",
    "- Scrape Source: (URL/table description)\n",
    "  URL: https://www.iban.com/currency-codes\n",
    "- Table: Single table containing currency codes \n",
    "- Parsing: `BeautifulSoup` → collect all `<tr>`; for each row collect `th/td` text; first row is header, remainder is data.\n",
    "\n",
    "- Validation Logic\n",
    "  Helper: `validate(df, required)` reports:\n",
    "  - missing required columns\n",
    "  - `shape` (rows, cols)\n",
    "  - total NA count and NA by column\n",
    "  API DataFrame required columns:** `['date', 'adj_close']`\n",
    "  - Type parsing: `date → datetime`, `adj_close → numeric (coerce)`\n",
    "  - Sort ascending by `date`.\n",
    "  Scrape DataFrame required columns:** list of all parsed columns from the header\n",
    "  - Numeric coercion (if present): columns containing `['price','weight','float','cap','last','number']` are coerced with `str.replace('[,$]', '')` + `pd.to_numeric(..., errors='ignore')`\n",
    "\n",
    "- Assumptions & risks: (rate limits, selector fragility, schema changes)\n",
    "- Alpha Vantage:\n",
    "  Rate limits and premium endpoints can return messages instead of data; code handles this and falls back to `yfinance`.\n",
    "  Response schema may change (e.g., adjusted vs. close).\n",
    "- yfinance / Yahoo Finance:\n",
    "  Occasional outages or column differences (`Adj Close` vs `Close`).\n",
    "  Market holidays may create gaps.\n",
    "- Scraping (iban.com):\n",
    "  HTML structure could change (selector fragility).\n",
    "  \n",
    "- Typing & Validation:\n",
    "  Numeric coercion uses `errors='ignore'`; unexpected symbols may remain as text.\n",
    "  Timezone is not adjusted; dates are treated as naive dates from the source.\n",
    "\n",
    "- Confirm `.env` is not committed."
   ]
  }
 ],
 "metadata": {
  "kernelspec": {
   "display_name": "fe-course",
   "language": "python",
   "name": "python3"
  },
  "language_info": {
   "codemirror_mode": {
    "name": "ipython",
    "version": 3
   },
   "file_extension": ".py",
   "mimetype": "text/x-python",
   "name": "python",
   "nbconvert_exporter": "python",
   "pygments_lexer": "ipython3",
   "version": "3.11.13"
  }
 },
 "nbformat": 4,
 "nbformat_minor": 5
}
